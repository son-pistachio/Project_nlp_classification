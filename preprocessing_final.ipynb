{
 "cells": [
  {
   "cell_type": "code",
   "execution_count": 1,
   "metadata": {},
   "outputs": [],
   "source": [
    "import pandas as pd\n",
    "import numpy as np"
   ]
  },
  {
   "cell_type": "code",
   "execution_count": 2,
   "metadata": {},
   "outputs": [],
   "source": [
    "df = pd.read_csv(\"/home/son/ml/nlp_classification/datasets/tot_data.csv\")"
   ]
  },
  {
   "cell_type": "code",
   "execution_count": 3,
   "metadata": {},
   "outputs": [
    {
     "data": {
      "text/plain": [
       "1432"
      ]
     },
     "execution_count": 3,
     "metadata": {},
     "output_type": "execute_result"
    }
   ],
   "source": [
    "df['label1'].isnull().sum()"
   ]
  },
  {
   "cell_type": "code",
   "execution_count": 4,
   "metadata": {},
   "outputs": [
    {
     "data": {
      "text/plain": [
       "array([nan, 'CO', 'S', 'P', 'P, AS', 'E', 'AS', 'Q', 'CL', 'R', 'A', 'AG',\n",
       "       'CP', 'B', 'M', 'CO, AS', 'M, \\nSelf-Compliment', 'SE', 'M, AS',\n",
       "       'Q, AS', '\\n', 'B, AS', 'Self-Compliment', 'CO,AS', 'p', 'P,AS',\n",
       "       'AG,AS', 'M,SE', 'B,AS', 'M,AS', 'DI', 'DJ', 'Self-compliment',\n",
       "       'M, SE', 'C', 'CP,AS', 'P ', ' CL', 'M, Self-Criticize',\n",
       "       'M, Self-Compliment', 'M,Self-Criticize', 'CP, \\nAS', 'CP, AS',\n",
       "       'Self-Criticize', 'M, \\nSelf-Criticize', 'S,AS', 'CO,\\nAS', 'A,AS',\n",
       "       'M, SC', 'Q,AS', 'Self-criticize', 's', 'M, SELF COMPLIMENT',\n",
       "       'AS,P', 'M,Self-Compliment', 'AS, CO', 'AS, P', 'co', 'I', 'M, CN',\n",
       "       'CL,AS', 'CN', 'R,AS', 'SC', 'OFF-TOPIC', 'B,\\nAS',\n",
       "       'Self-Criticize, SE', 'M, S-Criticize', 'AS,CP', 'off-task'],\n",
       "      dtype=object)"
      ]
     },
     "execution_count": 4,
     "metadata": {},
     "output_type": "execute_result"
    }
   ],
   "source": [
    "df['label1'].unique()"
   ]
  },
  {
   "cell_type": "code",
   "execution_count": 5,
   "metadata": {},
   "outputs": [],
   "source": [
    "# df['label2'].unique()"
   ]
  },
  {
   "cell_type": "code",
   "execution_count": 6,
   "metadata": {},
   "outputs": [],
   "source": [
    "# df['label3'].unique()"
   ]
  },
  {
   "cell_type": "code",
   "execution_count": 7,
   "metadata": {},
   "outputs": [],
   "source": [
    "df.dropna(subset=['label1'], inplace=True)"
   ]
  },
  {
   "cell_type": "code",
   "execution_count": 8,
   "metadata": {},
   "outputs": [],
   "source": [
    "# Step 1: 단일 및 복합 라벨 리스트로 변환\n",
    "df['label1'] = df['label1'].str.replace('\\n', '', regex=False)\n",
    "df['label1'] = df['label1'].str.replace(' ', '', regex=False)\n",
    "df['label1'] = df['label1'].replace('', np.nan)\n",
    "df['label1'] = df['label1'].str.upper()\n",
    "df['label1'] = df['label1'].str.replace('SELFCOMPLIMENT', 'SELF-COMPLIMENT', regex=False)\n",
    "df['label1'] = df['label1'].str.replace('S-CRITICIZE', 'SELF-CRITICIZE', regex=False)\n",
    "df['label1'] = df['label1'].str.split(',')"
   ]
  },
  {
   "cell_type": "code",
   "execution_count": 9,
   "metadata": {},
   "outputs": [
    {
     "data": {
      "text/plain": [
       "8             [CO]\n",
       "10            [CO]\n",
       "11             [S]\n",
       "12             [P]\n",
       "13         [P, AS]\n",
       "           ...    \n",
       "5526          [AG]\n",
       "5527          [CO]\n",
       "5529           [P]\n",
       "5530           [P]\n",
       "5531    [OFF-TASK]\n",
       "Name: label1, Length: 4100, dtype: object"
      ]
     },
     "execution_count": 9,
     "metadata": {},
     "output_type": "execute_result"
    }
   ],
   "source": [
    "df['label1']"
   ]
  },
  {
   "cell_type": "code",
   "execution_count": 10,
   "metadata": {},
   "outputs": [],
   "source": [
    "df.dropna(subset=['label1'], inplace=True)"
   ]
  },
  {
   "cell_type": "code",
   "execution_count": 11,
   "metadata": {},
   "outputs": [],
   "source": [
    "df.reset_index(drop=True, inplace=True)"
   ]
  },
  {
   "cell_type": "code",
   "execution_count": 12,
   "metadata": {},
   "outputs": [],
   "source": [
    "df = df[['text', 'label1']]"
   ]
  },
  {
   "cell_type": "code",
   "execution_count": 13,
   "metadata": {},
   "outputs": [
    {
     "data": {
      "text/plain": [
       "label1\n",
       "[P]                     1127\n",
       "[CO]                     685\n",
       "[Q]                      350\n",
       "[CL]                     299\n",
       "[AG]                     270\n",
       "[CP]                     260\n",
       "[AS]                     218\n",
       "[B]                      205\n",
       "[M]                      136\n",
       "[A]                       99\n",
       "[R]                       63\n",
       "[S]                       54\n",
       "[M, SELF-COMPLIMENT]      53\n",
       "[E]                       43\n",
       "[P, AS]                   36\n",
       "[CO, AS]                  31\n",
       "[M, SELF-CRITICIZE]       31\n",
       "[DJ]                      24\n",
       "[DI]                      19\n",
       "[M, SC]                   15\n",
       "[M, SE]                   13\n",
       "[M, AS]                   10\n",
       "[SE]                       9\n",
       "[OFF-TOPIC]                8\n",
       "[SELF-CRITICIZE]           6\n",
       "[CP, AS]                   5\n",
       "[B, AS]                    4\n",
       "[AG, AS]                   3\n",
       "[A, AS]                    3\n",
       "[SELF-COMPLIMENT]          3\n",
       "[AS, P]                    2\n",
       "[C]                        2\n",
       "[Q, AS]                    2\n",
       "[S, AS]                    1\n",
       "[AS, CO]                   1\n",
       "[I]                        1\n",
       "[M, CN]                    1\n",
       "[CL, AS]                   1\n",
       "[CN]                       1\n",
       "[R, AS]                    1\n",
       "[SC]                       1\n",
       "[SELF-CRITICIZE, SE]       1\n",
       "[AS, CP]                   1\n",
       "[OFF-TASK]                 1\n",
       "Name: count, dtype: int64"
      ]
     },
     "execution_count": 13,
     "metadata": {},
     "output_type": "execute_result"
    }
   ],
   "source": [
    "df['label1'].value_counts()"
   ]
  },
  {
   "cell_type": "code",
   "execution_count": 14,
   "metadata": {},
   "outputs": [],
   "source": [
    "df_single = df[df['label1'].apply(len) < 2]  # 단일 라벨만 추출"
   ]
  },
  {
   "cell_type": "code",
   "execution_count": 15,
   "metadata": {},
   "outputs": [
    {
     "data": {
      "text/plain": [
       "label1\n",
       "[P]                  1127\n",
       "[CO]                  685\n",
       "[Q]                   350\n",
       "[CL]                  299\n",
       "[AG]                  270\n",
       "[CP]                  260\n",
       "[AS]                  218\n",
       "[B]                   205\n",
       "[M]                   136\n",
       "[A]                    99\n",
       "[R]                    63\n",
       "[S]                    54\n",
       "[E]                    43\n",
       "[DJ]                   24\n",
       "[DI]                   19\n",
       "[SE]                    9\n",
       "[OFF-TOPIC]             8\n",
       "[SELF-CRITICIZE]        6\n",
       "[SELF-COMPLIMENT]       3\n",
       "[C]                     2\n",
       "[I]                     1\n",
       "[CN]                    1\n",
       "[SC]                    1\n",
       "[OFF-TASK]              1\n",
       "Name: count, dtype: int64"
      ]
     },
     "execution_count": 15,
     "metadata": {},
     "output_type": "execute_result"
    }
   ],
   "source": [
    "df_single['label1'].value_counts()"
   ]
  },
  {
   "cell_type": "code",
   "execution_count": 16,
   "metadata": {},
   "outputs": [],
   "source": [
    "df_single.reset_index(drop=True, inplace=True)"
   ]
  },
  {
   "cell_type": "code",
   "execution_count": 17,
   "metadata": {},
   "outputs": [],
   "source": [
    "df_single.loc[:, 'label1'] = df_single['label1'].apply(lambda x: x[0])"
   ]
  },
  {
   "cell_type": "code",
   "execution_count": 18,
   "metadata": {},
   "outputs": [],
   "source": [
    "df_single.loc[:, 'label1'] = df_single['label1'].apply(lambda x: x.strip())"
   ]
  },
  {
   "cell_type": "code",
   "execution_count": 19,
   "metadata": {},
   "outputs": [
    {
     "data": {
      "text/plain": [
       "label1\n",
       "P                  1127\n",
       "CO                  685\n",
       "Q                   350\n",
       "CL                  299\n",
       "AG                  270\n",
       "CP                  260\n",
       "AS                  218\n",
       "B                   205\n",
       "M                   136\n",
       "A                    99\n",
       "R                    63\n",
       "S                    54\n",
       "E                    43\n",
       "DJ                   24\n",
       "DI                   19\n",
       "SE                    9\n",
       "OFF-TOPIC             8\n",
       "SELF-CRITICIZE        6\n",
       "SELF-COMPLIMENT       3\n",
       "C                     2\n",
       "I                     1\n",
       "CN                    1\n",
       "SC                    1\n",
       "OFF-TASK              1\n",
       "Name: count, dtype: int64"
      ]
     },
     "execution_count": 19,
     "metadata": {},
     "output_type": "execute_result"
    }
   ],
   "source": [
    "df_single['label1'].value_counts()"
   ]
  },
  {
   "cell_type": "markdown",
   "metadata": {},
   "source": [
    "# 특정 라벨로 데이터 저장하는 코드"
   ]
  },
  {
   "cell_type": "code",
   "execution_count": 22,
   "metadata": {},
   "outputs": [],
   "source": [
    "df_filtered = df_single[df_single['label1'].isin(['Q', 'CP', 'AS', 'B', 'R', 'CL'])]"
   ]
  },
  {
   "cell_type": "code",
   "execution_count": 23,
   "metadata": {},
   "outputs": [
    {
     "data": {
      "text/plain": [
       "label1\n",
       "Q     350\n",
       "CL    299\n",
       "CP    260\n",
       "AS    218\n",
       "B     205\n",
       "R      63\n",
       "Name: count, dtype: int64"
      ]
     },
     "execution_count": 23,
     "metadata": {},
     "output_type": "execute_result"
    }
   ],
   "source": [
    "df_filtered['label1'].value_counts()"
   ]
  },
  {
   "cell_type": "code",
   "execution_count": 24,
   "metadata": {},
   "outputs": [],
   "source": [
    "df_filtered.loc[:, 'label1'], uniques = pd.factorize(df_filtered['label1'])"
   ]
  },
  {
   "cell_type": "code",
   "execution_count": 25,
   "metadata": {},
   "outputs": [
    {
     "data": {
      "text/plain": [
       "6"
      ]
     },
     "execution_count": 25,
     "metadata": {},
     "output_type": "execute_result"
    }
   ],
   "source": [
    "len(uniques)"
   ]
  },
  {
   "cell_type": "code",
   "execution_count": 26,
   "metadata": {},
   "outputs": [
    {
     "name": "stdout",
     "output_type": "stream",
     "text": [
      "Updated num_classes in config.yaml to 6\n"
     ]
    }
   ],
   "source": [
    "import yaml\n",
    "\n",
    "# config.yaml 파일 읽기\n",
    "with open('config.yaml', 'r') as file:\n",
    "    config = yaml.safe_load(file)\n",
    "\n",
    "# uniques의 길이를 계산 (이 부분은 이미 실행한 코드에서 가져옴)\n",
    "num_classes = len(uniques)\n",
    "\n",
    "# config.yaml 파일의 num_classes를 업데이트\n",
    "config['num_classes'] = num_classes\n",
    "\n",
    "# 업데이트된 config.yaml 파일 저장\n",
    "with open('config.yaml', 'w') as file:\n",
    "    yaml.dump(config, file)\n",
    "\n",
    "print(f\"Updated num_classes in config.yaml to {num_classes}\")"
   ]
  },
  {
   "cell_type": "code",
   "execution_count": 27,
   "metadata": {},
   "outputs": [],
   "source": [
    "df_filtered.loc[:, 'text'] = df_filtered['text'].str.replace('\\n', ' ')  # 줄바꿈 제거\n",
    "df_filtered.loc[:, 'text'] = df_filtered['text'].str.replace('\\s+', ' ', regex=True)  # 중복 공백 제거\n",
    "df_filtered.loc[:, 'text'] = df_filtered['text'].str.replace('..', ',')\n",
    "df_filtered.loc[:, 'text'] = df_filtered['text'].str.replace('...', ',')\n",
    "df_filtered.loc[:, 'text'] = df_filtered['text'].str.replace('....', ',')\n",
    "df_filtered.loc[:, 'text'] = df_filtered['text'].str.replace('.....', ',')\n",
    "df_filtered.loc[:, 'text'] = df_filtered['text'].str.replace('…', ',')\n",
    "df_filtered.loc[:, 'text'] = df_filtered['text'].str.strip()"
   ]
  },
  {
   "cell_type": "code",
   "execution_count": 28,
   "metadata": {},
   "outputs": [],
   "source": [
    "df_filtered.reset_index(drop=True, inplace=True)"
   ]
  },
  {
   "cell_type": "code",
   "execution_count": 29,
   "metadata": {},
   "outputs": [
    {
     "data": {
      "text/plain": [
       "(1395, 2)"
      ]
     },
     "execution_count": 29,
     "metadata": {},
     "output_type": "execute_result"
    }
   ],
   "source": [
    "df_filtered.shape"
   ]
  },
  {
   "cell_type": "code",
   "execution_count": 30,
   "metadata": {},
   "outputs": [],
   "source": [
    "df_filtered.to_csv('/home/son/ml/nlp_classification/datasets/final_data.csv', index=False)"
   ]
  },
  {
   "cell_type": "code",
   "execution_count": null,
   "metadata": {},
   "outputs": [],
   "source": []
  },
  {
   "cell_type": "markdown",
   "metadata": {},
   "source": [
    "# 라벨 개수로 데이터 저장하는 코드"
   ]
  },
  {
   "cell_type": "code",
   "execution_count": 51,
   "metadata": {},
   "outputs": [],
   "source": [
    "label_counts = df_single['label1'].value_counts()\n",
    "\n",
    "# 특정 수 이하 레이블 리스트 추출\n",
    "rare_labels = label_counts[label_counts < 200].index\n",
    "\n",
    "# 해당 레이블을 가진 데이터 삭제\n",
    "df_filtered = df_single[~df_single['label1'].isin(rare_labels)]"
   ]
  },
  {
   "cell_type": "code",
   "execution_count": 52,
   "metadata": {},
   "outputs": [
    {
     "data": {
      "text/plain": [
       "label1\n",
       "P     1127\n",
       "CO     685\n",
       "Q      350\n",
       "CL     299\n",
       "AG     270\n",
       "CP     260\n",
       "AS     218\n",
       "B      205\n",
       "Name: count, dtype: int64"
      ]
     },
     "execution_count": 52,
     "metadata": {},
     "output_type": "execute_result"
    }
   ],
   "source": [
    "df_filtered['label1'].value_counts()"
   ]
  },
  {
   "cell_type": "code",
   "execution_count": 53,
   "metadata": {},
   "outputs": [],
   "source": [
    "df_filtered.loc[:, 'label1'], uniques = pd.factorize(df_filtered['label1'])"
   ]
  },
  {
   "cell_type": "code",
   "execution_count": 54,
   "metadata": {},
   "outputs": [
    {
     "data": {
      "text/plain": [
       "8"
      ]
     },
     "execution_count": 54,
     "metadata": {},
     "output_type": "execute_result"
    }
   ],
   "source": [
    "len(uniques)"
   ]
  },
  {
   "cell_type": "code",
   "execution_count": 55,
   "metadata": {},
   "outputs": [
    {
     "name": "stdout",
     "output_type": "stream",
     "text": [
      "Updated num_classes in config.yaml to 8\n"
     ]
    }
   ],
   "source": [
    "import yaml\n",
    "\n",
    "# config.yaml 파일 읽기\n",
    "with open('config.yaml', 'r') as file:\n",
    "    config = yaml.safe_load(file)\n",
    "\n",
    "# uniques의 길이를 계산 (이 부분은 이미 실행한 코드에서 가져옴)\n",
    "num_classes = len(uniques)\n",
    "\n",
    "# config.yaml 파일의 num_classes를 업데이트\n",
    "config['num_classes'] = num_classes\n",
    "\n",
    "# 업데이트된 config.yaml 파일 저장\n",
    "with open('config.yaml', 'w') as file:\n",
    "    yaml.dump(config, file)\n",
    "\n",
    "print(f\"Updated num_classes in config.yaml to {num_classes}\")\n"
   ]
  },
  {
   "cell_type": "code",
   "execution_count": 56,
   "metadata": {},
   "outputs": [
    {
     "data": {
      "text/plain": [
       "Index(['CO', 'P', 'AS', 'Q', 'CL', 'AG', 'CP', 'B'], dtype='object')"
      ]
     },
     "execution_count": 56,
     "metadata": {},
     "output_type": "execute_result"
    }
   ],
   "source": [
    "uniques"
   ]
  },
  {
   "cell_type": "code",
   "execution_count": 57,
   "metadata": {},
   "outputs": [
    {
     "data": {
      "text/plain": [
       "label1\n",
       "1    1127\n",
       "0     685\n",
       "3     350\n",
       "4     299\n",
       "5     270\n",
       "6     260\n",
       "2     218\n",
       "7     205\n",
       "Name: count, dtype: int64"
      ]
     },
     "execution_count": 57,
     "metadata": {},
     "output_type": "execute_result"
    }
   ],
   "source": [
    "df_filtered['label1'].value_counts()"
   ]
  },
  {
   "cell_type": "code",
   "execution_count": 58,
   "metadata": {},
   "outputs": [],
   "source": [
    "df_filtered.loc[:, 'text'] = df_filtered['text'].str.replace('\\n', ' ')  # 줄바꿈 제거\n",
    "df_filtered.loc[:, 'text'] = df_filtered['text'].str.replace('\\s+', ' ', regex=True)  # 중복 공백 제거\n",
    "df_filtered.loc[:, 'text'] = df_filtered['text'].str.replace('..', ',')\n",
    "df_filtered.loc[:, 'text'] = df_filtered['text'].str.replace('...', ',')\n",
    "df_filtered.loc[:, 'text'] = df_filtered['text'].str.replace('....', ',')\n",
    "df_filtered.loc[:, 'text'] = df_filtered['text'].str.replace('.....', ',')\n",
    "df_filtered.loc[:, 'text'] = df_filtered['text'].str.replace('…', ',')\n",
    "df_filtered.loc[:, 'text'] = df_filtered['text'].str.strip()"
   ]
  },
  {
   "cell_type": "code",
   "execution_count": 59,
   "metadata": {},
   "outputs": [],
   "source": [
    "df_filtered.reset_index(drop=True, inplace=True)"
   ]
  },
  {
   "cell_type": "code",
   "execution_count": 30,
   "metadata": {},
   "outputs": [
    {
     "data": {
      "text/plain": [
       "(1812, 2)"
      ]
     },
     "execution_count": 30,
     "metadata": {},
     "output_type": "execute_result"
    }
   ],
   "source": [
    "df_filtered.shape"
   ]
  },
  {
   "cell_type": "code",
   "execution_count": 31,
   "metadata": {},
   "outputs": [],
   "source": [
    "df_filtered.to_csv('/home/son/ml/nlp_classification/datasets/final_data.csv', index=False)"
   ]
  },
  {
   "cell_type": "code",
   "execution_count": null,
   "metadata": {},
   "outputs": [],
   "source": []
  },
  {
   "cell_type": "code",
   "execution_count": null,
   "metadata": {},
   "outputs": [],
   "source": []
  },
  {
   "cell_type": "code",
   "execution_count": null,
   "metadata": {},
   "outputs": [],
   "source": []
  },
  {
   "cell_type": "code",
   "execution_count": null,
   "metadata": {},
   "outputs": [],
   "source": []
  },
  {
   "cell_type": "code",
   "execution_count": null,
   "metadata": {},
   "outputs": [],
   "source": []
  },
  {
   "cell_type": "code",
   "execution_count": null,
   "metadata": {},
   "outputs": [],
   "source": []
  },
  {
   "cell_type": "markdown",
   "metadata": {},
   "source": [
    "# 라벨 2개 이상 데이터 제거"
   ]
  },
  {
   "cell_type": "code",
   "execution_count": 27,
   "metadata": {},
   "outputs": [
    {
     "data": {
      "text/plain": [
       "label1\n",
       "[P]                  1127\n",
       "[CO]                  685\n",
       "[Q]                   350\n",
       "[CL]                  299\n",
       "[AG]                  270\n",
       "[CP]                  260\n",
       "[AS]                  218\n",
       "[B]                   205\n",
       "[M]                   136\n",
       "[A]                    99\n",
       "[R]                    63\n",
       "[S]                    54\n",
       "[E]                    43\n",
       "[DJ]                   24\n",
       "[DI]                   19\n",
       "[SE]                    9\n",
       "[OFF-TOPIC]             8\n",
       "[SELF-CRITICIZE]        6\n",
       "[SELF-COMPLIMENT]       3\n",
       "[C]                     2\n",
       "[I]                     1\n",
       "[CN]                    1\n",
       "[SC]                    1\n",
       "[OFF-TASK]              1\n",
       "Name: count, dtype: int64"
      ]
     },
     "execution_count": 27,
     "metadata": {},
     "output_type": "execute_result"
    }
   ],
   "source": [
    "df_filtered['label1'].value_counts()"
   ]
  },
  {
   "cell_type": "code",
   "execution_count": 28,
   "metadata": {},
   "outputs": [],
   "source": [
    "# 2 이하의 값만 필터링하는 조건 설정\n",
    "label_counts = df_filtered['label1'].value_counts()\n",
    "\n",
    "# 빈도가 2 이하인 레이블 리스트 추출\n",
    "rare_labels = label_counts[label_counts < 50].index\n",
    "\n",
    "# 해당 레이블을 가진 데이터 삭제\n",
    "df_filtered = df_filtered[~df_filtered['label1'].isin(rare_labels)]"
   ]
  },
  {
   "cell_type": "code",
   "execution_count": 29,
   "metadata": {},
   "outputs": [
    {
     "data": {
      "text/plain": [
       "label1\n",
       "[P]     1127\n",
       "[CO]     685\n",
       "[Q]      350\n",
       "[CL]     299\n",
       "[AG]     270\n",
       "[CP]     260\n",
       "[AS]     218\n",
       "[B]      205\n",
       "[M]      136\n",
       "[A]       99\n",
       "[R]       63\n",
       "[S]       54\n",
       "Name: count, dtype: int64"
      ]
     },
     "execution_count": 29,
     "metadata": {},
     "output_type": "execute_result"
    }
   ],
   "source": [
    "df_filtered['label1'].value_counts()"
   ]
  },
  {
   "cell_type": "code",
   "execution_count": 30,
   "metadata": {},
   "outputs": [],
   "source": [
    "df_filtered['text'] = df_filtered['text'].str.replace('\\n', ' ', regex=False)  # 줄바꿈 제거\n",
    "df_filtered['text'] = df_filtered['text'].str.replace('\\s+', ' ', regex=True)   # 중복 공백 제거\n",
    "df_filtered['text'] = df_filtered['text'].str.strip()  # 앞뒤 공백 제거"
   ]
  },
  {
   "cell_type": "code",
   "execution_count": 31,
   "metadata": {},
   "outputs": [],
   "source": [
    "df_filtered.to_csv('./datasets/final_data.csv', index=False)"
   ]
  },
  {
   "cell_type": "code",
   "execution_count": null,
   "metadata": {},
   "outputs": [],
   "source": []
  },
  {
   "cell_type": "code",
   "execution_count": null,
   "metadata": {},
   "outputs": [],
   "source": []
  },
  {
   "cell_type": "code",
   "execution_count": 16,
   "metadata": {},
   "outputs": [],
   "source": [
    "# 2 이하의 값만 필터링하는 조건 설정\n",
    "label_counts = df['label1'].value_counts()\n",
    "\n",
    "# 빈도가 2 이하인 레이블 리스트 추출\n",
    "rare_labels = label_counts[label_counts < 6].index\n",
    "\n",
    "# 해당 레이블을 가진 데이터 삭제\n",
    "df_filtered = df[~df['label1'].isin(rare_labels)]"
   ]
  },
  {
   "cell_type": "code",
   "execution_count": 17,
   "metadata": {},
   "outputs": [
    {
     "data": {
      "text/plain": [
       "label1\n",
       "[P]                     1127\n",
       "[CO]                     685\n",
       "[Q]                      350\n",
       "[CL]                     299\n",
       "[AG]                     270\n",
       "[CP]                     260\n",
       "[AS]                     218\n",
       "[B]                      205\n",
       "[M]                      136\n",
       "[A]                       99\n",
       "[R]                       63\n",
       "[S]                       54\n",
       "[M, SELF-COMPLIMENT]      53\n",
       "[E]                       43\n",
       "[P, AS]                   36\n",
       "[CO, AS]                  31\n",
       "[M, SELF-CRITICIZE]       31\n",
       "[DJ]                      24\n",
       "[DI]                      19\n",
       "[M, SC]                   15\n",
       "[M, SE]                   13\n",
       "[M, AS]                   10\n",
       "[SE]                       9\n",
       "[OFF-TOPIC]                8\n",
       "[SELF-CRITICIZE]           6\n",
       "Name: count, dtype: int64"
      ]
     },
     "execution_count": 17,
     "metadata": {},
     "output_type": "execute_result"
    }
   ],
   "source": [
    "df_filtered['label1'].value_counts()"
   ]
  },
  {
   "cell_type": "code",
   "execution_count": 18,
   "metadata": {},
   "outputs": [
    {
     "data": {
      "text/html": [
       "<div>\n",
       "<style scoped>\n",
       "    .dataframe tbody tr th:only-of-type {\n",
       "        vertical-align: middle;\n",
       "    }\n",
       "\n",
       "    .dataframe tbody tr th {\n",
       "        vertical-align: top;\n",
       "    }\n",
       "\n",
       "    .dataframe thead th {\n",
       "        text-align: right;\n",
       "    }\n",
       "</style>\n",
       "<table border=\"1\" class=\"dataframe\">\n",
       "  <thead>\n",
       "    <tr style=\"text-align: right;\">\n",
       "      <th></th>\n",
       "      <th>text</th>\n",
       "      <th>label1</th>\n",
       "    </tr>\n",
       "  </thead>\n",
       "  <tbody>\n",
       "    <tr>\n",
       "      <th>0</th>\n",
       "      <td>활동지에 보면은 스텝1 질문이 나와 있는데 혹시 다들 확인하셨을까요?</td>\n",
       "      <td>[CO]</td>\n",
       "    </tr>\n",
       "    <tr>\n",
       "      <th>1</th>\n",
       "      <td>그러면은 확인 아직 못하신분 없는 지 다 확인하셨네요. 그러면 지금부터 스텝 1의 ...</td>\n",
       "      <td>[CO]</td>\n",
       "    </tr>\n",
       "    <tr>\n",
       "      <th>2</th>\n",
       "      <td>이제 먼저 본 자료에 따르면 김한양 씨가 지금 20분 정도 듣고 있는 수업을 운영을...</td>\n",
       "      <td>[S]</td>\n",
       "    </tr>\n",
       "    <tr>\n",
       "      <th>3</th>\n",
       "      <td>이렇게 있는 상황인데 일단은 이 상황이 문제가 될 수밖에 없었던 이유에는 일단은 개...</td>\n",
       "      <td>[P]</td>\n",
       "    </tr>\n",
       "    <tr>\n",
       "      <th>4</th>\n",
       "      <td>그래서 저는 이런 실질적인 지원이나 아니면 교수자가 이용할 수 있는 툴 이런 것들이...</td>\n",
       "      <td>[P, AS]</td>\n",
       "    </tr>\n",
       "    <tr>\n",
       "      <th>...</th>\n",
       "      <td>...</td>\n",
       "      <td>...</td>\n",
       "    </tr>\n",
       "    <tr>\n",
       "      <th>4093</th>\n",
       "      <td>아 얘를... 이미지를 LMS 거라도 넣을까요?</td>\n",
       "      <td>[CO]</td>\n",
       "    </tr>\n",
       "    <tr>\n",
       "      <th>4094</th>\n",
       "      <td>좋아요</td>\n",
       "      <td>[AG]</td>\n",
       "    </tr>\n",
       "    <tr>\n",
       "      <th>4095</th>\n",
       "      <td>이론적 근거…</td>\n",
       "      <td>[CO]</td>\n",
       "    </tr>\n",
       "    <tr>\n",
       "      <th>4096</th>\n",
       "      <td>교안을 참고했다고 하면…</td>\n",
       "      <td>[P]</td>\n",
       "    </tr>\n",
       "    <tr>\n",
       "      <th>4097</th>\n",
       "      <td>교수설계 내용을 기반으로 하였다 정도 일 것 같은데요?</td>\n",
       "      <td>[P]</td>\n",
       "    </tr>\n",
       "  </tbody>\n",
       "</table>\n",
       "<p>4064 rows × 2 columns</p>\n",
       "</div>"
      ],
      "text/plain": [
       "                                                   text   label1\n",
       "0                활동지에 보면은 스텝1 질문이 나와 있는데 혹시 다들 확인하셨을까요?     [CO]\n",
       "1     그러면은 확인 아직 못하신분 없는 지 다 확인하셨네요. 그러면 지금부터 스텝 1의 ...     [CO]\n",
       "2     이제 먼저 본 자료에 따르면 김한양 씨가 지금 20분 정도 듣고 있는 수업을 운영을...      [S]\n",
       "3     이렇게 있는 상황인데 일단은 이 상황이 문제가 될 수밖에 없었던 이유에는 일단은 개...      [P]\n",
       "4     그래서 저는 이런 실질적인 지원이나 아니면 교수자가 이용할 수 있는 툴 이런 것들이...  [P, AS]\n",
       "...                                                 ...      ...\n",
       "4093                         아 얘를... 이미지를 LMS 거라도 넣을까요?     [CO]\n",
       "4094                                                좋아요     [AG]\n",
       "4095                                            이론적 근거…     [CO]\n",
       "4096                                      교안을 참고했다고 하면…      [P]\n",
       "4097                     교수설계 내용을 기반으로 하였다 정도 일 것 같은데요?      [P]\n",
       "\n",
       "[4064 rows x 2 columns]"
      ]
     },
     "execution_count": 18,
     "metadata": {},
     "output_type": "execute_result"
    }
   ],
   "source": [
    "df_filtered"
   ]
  },
  {
   "cell_type": "code",
   "execution_count": 19,
   "metadata": {},
   "outputs": [],
   "source": [
    "df_filtered.to_csv('./datasets/final_data.csv', index=False)"
   ]
  },
  {
   "cell_type": "code",
   "execution_count": null,
   "metadata": {},
   "outputs": [],
   "source": []
  },
  {
   "cell_type": "code",
   "execution_count": null,
   "metadata": {},
   "outputs": [],
   "source": []
  },
  {
   "cell_type": "code",
   "execution_count": null,
   "metadata": {},
   "outputs": [],
   "source": []
  }
 ],
 "metadata": {
  "kernelspec": {
   "display_name": "nlp",
   "language": "python",
   "name": "python3"
  },
  "language_info": {
   "codemirror_mode": {
    "name": "ipython",
    "version": 3
   },
   "file_extension": ".py",
   "mimetype": "text/x-python",
   "name": "python",
   "nbconvert_exporter": "python",
   "pygments_lexer": "ipython3",
   "version": "3.10.14"
  }
 },
 "nbformat": 4,
 "nbformat_minor": 2
}
